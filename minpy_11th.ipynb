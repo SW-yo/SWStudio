{
 "cells": [
  {
   "cell_type": "code",
   "execution_count": 1,
   "metadata": {},
   "outputs": [],
   "source": [
    "import numpy as np\n",
    "reactions_in_ms = np.loadtxt('reactions.txt')"
   ]
  },
  {
   "cell_type": "code",
   "execution_count": 2,
   "metadata": {},
   "outputs": [
    {
     "name": "stdout",
     "output_type": "stream",
     "text": [
      "1000\n",
      "[664. 481. 511. 612. 526. 498. 441. 447. 685. 477. 525. 686. 685. 485.\n",
      " 525. 704. 631. 464. 576. 514.]\n"
     ]
    }
   ],
   "source": [
    "print(reactions_in_ms.size)\n",
    "print(reactions_in_ms[:20])"
   ]
  },
  {
   "cell_type": "code",
   "execution_count": 3,
   "metadata": {},
   "outputs": [
    {
     "name": "stdout",
     "output_type": "stream",
     "text": [
      "[0.664 0.481 0.511 0.612 0.526 0.498 0.441 0.447 0.685 0.477 0.525 0.686\n",
      " 0.685 0.485 0.525 0.704 0.631 0.464 0.576 0.514]\n"
     ]
    }
   ],
   "source": [
    "reactions_in_sec = reactionｓ_in_ms / 1000\n",
    "print(reactions_in_sec[:20])"
   ]
  },
  {
   "cell_type": "code",
   "execution_count": 4,
   "metadata": {},
   "outputs": [
    {
     "name": "stdout",
     "output_type": "stream",
     "text": [
      "平均値： 0.492834\n",
      "中央値： 0.478\n",
      "標準偏差： 0.10190053210852237\n",
      "最小値： 0.251\n",
      "最大値： 0.843\n"
     ]
    }
   ],
   "source": [
    "print('平均値：', np.mean(reactions_in_sec))\n",
    "print('中央値：', np.median(reactions_in_sec))\n",
    "print('標準偏差：', np.std(reactions_in_sec))\n",
    "print('最小値：', np.min(reactions_in_sec))\n",
    "print('最大値：', np.max(reactions_in_sec))"
   ]
  },
  {
   "cell_type": "code",
   "execution_count": 5,
   "metadata": {},
   "outputs": [
    {
     "data": {
      "text/html": [
       "<div>\n",
       "<style scoped>\n",
       "    .dataframe tbody tr th:only-of-type {\n",
       "        vertical-align: middle;\n",
       "    }\n",
       "\n",
       "    .dataframe tbody tr th {\n",
       "        vertical-align: top;\n",
       "    }\n",
       "\n",
       "    .dataframe thead th {\n",
       "        text-align: right;\n",
       "    }\n",
       "</style>\n",
       "<table border=\"1\" class=\"dataframe\">\n",
       "  <thead>\n",
       "    <tr style=\"text-align: right;\">\n",
       "      <th></th>\n",
       "      <th>0</th>\n",
       "    </tr>\n",
       "  </thead>\n",
       "  <tbody>\n",
       "    <tr>\n",
       "      <th>0</th>\n",
       "      <td>0.664</td>\n",
       "    </tr>\n",
       "    <tr>\n",
       "      <th>1</th>\n",
       "      <td>0.481</td>\n",
       "    </tr>\n",
       "    <tr>\n",
       "      <th>2</th>\n",
       "      <td>0.511</td>\n",
       "    </tr>\n",
       "    <tr>\n",
       "      <th>3</th>\n",
       "      <td>0.612</td>\n",
       "    </tr>\n",
       "    <tr>\n",
       "      <th>4</th>\n",
       "      <td>0.526</td>\n",
       "    </tr>\n",
       "  </tbody>\n",
       "</table>\n",
       "</div>"
      ],
      "text/plain": [
       "       0\n",
       "0  0.664\n",
       "1  0.481\n",
       "2  0.511\n",
       "3  0.612\n",
       "4  0.526"
      ]
     },
     "execution_count": 5,
     "metadata": {},
     "output_type": "execute_result"
    }
   ],
   "source": [
    "import pandas as pd\n",
    "reactions_df = pd.DataFrame(reactionｓ_in_sec)\n",
    "reactions_df.head()"
   ]
  },
  {
   "cell_type": "code",
   "execution_count": 6,
   "metadata": {},
   "outputs": [
    {
     "data": {
      "text/html": [
       "<div>\n",
       "<style scoped>\n",
       "    .dataframe tbody tr th:only-of-type {\n",
       "        vertical-align: middle;\n",
       "    }\n",
       "\n",
       "    .dataframe tbody tr th {\n",
       "        vertical-align: top;\n",
       "    }\n",
       "\n",
       "    .dataframe thead th {\n",
       "        text-align: right;\n",
       "    }\n",
       "</style>\n",
       "<table border=\"1\" class=\"dataframe\">\n",
       "  <thead>\n",
       "    <tr style=\"text-align: right;\">\n",
       "      <th></th>\n",
       "      <th>0</th>\n",
       "    </tr>\n",
       "  </thead>\n",
       "  <tbody>\n",
       "    <tr>\n",
       "      <th>count</th>\n",
       "      <td>1000.000000</td>\n",
       "    </tr>\n",
       "    <tr>\n",
       "      <th>mean</th>\n",
       "      <td>0.492834</td>\n",
       "    </tr>\n",
       "    <tr>\n",
       "      <th>std</th>\n",
       "      <td>0.101952</td>\n",
       "    </tr>\n",
       "    <tr>\n",
       "      <th>min</th>\n",
       "      <td>0.251000</td>\n",
       "    </tr>\n",
       "    <tr>\n",
       "      <th>25%</th>\n",
       "      <td>0.417000</td>\n",
       "    </tr>\n",
       "    <tr>\n",
       "      <th>50%</th>\n",
       "      <td>0.478000</td>\n",
       "    </tr>\n",
       "    <tr>\n",
       "      <th>75%</th>\n",
       "      <td>0.559000</td>\n",
       "    </tr>\n",
       "    <tr>\n",
       "      <th>max</th>\n",
       "      <td>0.843000</td>\n",
       "    </tr>\n",
       "  </tbody>\n",
       "</table>\n",
       "</div>"
      ],
      "text/plain": [
       "                 0\n",
       "count  1000.000000\n",
       "mean      0.492834\n",
       "std       0.101952\n",
       "min       0.251000\n",
       "25%       0.417000\n",
       "50%       0.478000\n",
       "75%       0.559000\n",
       "max       0.843000"
      ]
     },
     "execution_count": 6,
     "metadata": {},
     "output_type": "execute_result"
    }
   ],
   "source": [
    "reactions_df.describe()"
   ]
  },
  {
   "cell_type": "code",
   "execution_count": 7,
   "metadata": {},
   "outputs": [
    {
     "data": {
      "image/png": "[encoded data removed]",
      "text/plain": [
       "<Figure size 432x288 with 1 Axes>"
      ]
     },
     "metadata": {
      "needs_background": "light"
     },
     "output_type": "display_data"
    }
   ],
   "source": [
    "%matplotlib inline\n",
    "import matplotlib.pyplot as plt\n",
    "h = plt.hist(reactions_in_sec)"
   ]
  },
  {
   "cell_type": "code",
   "execution_count": 8,
   "metadata": {},
   "outputs": [
    {
     "data": {
      "text/plain": [
       "array([0, 1, 2, 3])"
      ]
     },
     "execution_count": 8,
     "metadata": {},
     "output_type": "execute_result"
    }
   ],
   "source": [
    "import numpy as np\n",
    "a = np.array([0, 1, 2, 3])\n",
    "a"
   ]
  },
  {
   "cell_type": "code",
   "execution_count": 9,
   "metadata": {},
   "outputs": [
    {
     "data": {
      "text/plain": [
       "array([[0, 0, 0],\n",
       "       [0, 0, 0],\n",
       "       [0, 0, 0]])"
      ]
     },
     "execution_count": 9,
     "metadata": {},
     "output_type": "execute_result"
    }
   ],
   "source": [
    "b = np.array([[0, 0, 0], [0, 0, 0], [0, 0, 0]])\n",
    "b"
   ]
  },
  {
   "cell_type": "code",
   "execution_count": 10,
   "metadata": {},
   "outputs": [
    {
     "name": "stdout",
     "output_type": "stream",
     "text": [
      "2\n",
      "(3, 3)\n",
      "9\n",
      "int64\n"
     ]
    }
   ],
   "source": [
    "print(b.ndim)\n",
    "print(b.shape)\n",
    "print(b.size)\n",
    "print(b.dtype)"
   ]
  },
  {
   "cell_type": "code",
   "execution_count": 11,
   "metadata": {},
   "outputs": [
    {
     "data": {
      "text/plain": [
       "array([[0., 0., 0.],\n",
       "       [0., 0., 0.],\n",
       "       [0., 0., 0.]])"
      ]
     },
     "execution_count": 11,
     "metadata": {},
     "output_type": "execute_result"
    }
   ],
   "source": [
    "b2 = np.zeros(9).reshape(3, 3)\n",
    "b2"
   ]
  },
  {
   "cell_type": "code",
   "execution_count": 12,
   "metadata": {},
   "outputs": [
    {
     "data": {
      "text/plain": [
       "array([[0, 1, 2],\n",
       "       [3, 4, 5],\n",
       "       [6, 7, 8]])"
      ]
     },
     "execution_count": 12,
     "metadata": {},
     "output_type": "execute_result"
    }
   ],
   "source": [
    "a = np.arange(9).reshape(3, 3)\n",
    "a"
   ]
  },
  {
   "cell_type": "code",
   "execution_count": 13,
   "metadata": {},
   "outputs": [
    {
     "data": {
      "text/plain": [
       "array([[0, 3, 6],\n",
       "       [1, 4, 7],\n",
       "       [2, 5, 8]])"
      ]
     },
     "execution_count": 13,
     "metadata": {},
     "output_type": "execute_result"
    }
   ],
   "source": [
    "a.T"
   ]
  },
  {
   "cell_type": "code",
   "execution_count": 14,
   "metadata": {},
   "outputs": [
    {
     "data": {
      "text/plain": [
       "array([ 2,  3,  4,  5,  6,  7,  8,  9, 10])"
      ]
     },
     "execution_count": 14,
     "metadata": {},
     "output_type": "execute_result"
    }
   ],
   "source": [
    "a = np.arange(1, 10)\n",
    "a + 1"
   ]
  },
  {
   "cell_type": "code",
   "execution_count": 15,
   "metadata": {},
   "outputs": [
    {
     "data": {
      "text/plain": [
       "array([ 2,  4,  6,  8, 10, 12, 14, 16, 18])"
      ]
     },
     "execution_count": 15,
     "metadata": {},
     "output_type": "execute_result"
    }
   ],
   "source": [
    "a = np.arange(1, 10)\n",
    "b = np.arange(1, 10)\n",
    "a + b"
   ]
  },
  {
   "cell_type": "code",
   "execution_count": 16,
   "metadata": {},
   "outputs": [
    {
     "data": {
      "text/plain": [
       "array([[1., 2., 3.],\n",
       "       [1., 2., 3.],\n",
       "       [1., 2., 3.]])"
      ]
     },
     "execution_count": 16,
     "metadata": {},
     "output_type": "execute_result"
    }
   ],
   "source": [
    "a = np.ones(9).reshape(3, 3)\n",
    "b = np.arange(1, 4)\n",
    "a * b"
   ]
  },
  {
   "cell_type": "code",
   "execution_count": 17,
   "metadata": {},
   "outputs": [
    {
     "data": {
      "text/plain": [
       "array([[0., 0., 0.],\n",
       "       [0., 0., 0.],\n",
       "       [0., 0., 0.]])"
      ]
     },
     "execution_count": 17,
     "metadata": {},
     "output_type": "execute_result"
    }
   ],
   "source": [
    "np.zeros((3, 1)) * np.zeros((1, 3))"
   ]
  },
  {
   "cell_type": "code",
   "execution_count": 18,
   "metadata": {},
   "outputs": [
    {
     "data": {
      "text/plain": [
       "36"
      ]
     },
     "execution_count": 18,
     "metadata": {},
     "output_type": "execute_result"
    }
   ],
   "source": [
    "a = np.arange(9).reshape(3, 3)\n",
    "np.sum(a)"
   ]
  },
  {
   "cell_type": "code",
   "execution_count": 19,
   "metadata": {},
   "outputs": [
    {
     "data": {
      "text/plain": [
       "array([ 9, 12, 15])"
      ]
     },
     "execution_count": 19,
     "metadata": {},
     "output_type": "execute_result"
    }
   ],
   "source": [
    "a = np.arange(9).reshape(3, 3)\n",
    "np.sum(a, axis=0)"
   ]
  },
  {
   "cell_type": "code",
   "execution_count": 20,
   "metadata": {},
   "outputs": [
    {
     "data": {
      "text/plain": [
       "5"
      ]
     },
     "execution_count": 20,
     "metadata": {},
     "output_type": "execute_result"
    }
   ],
   "source": [
    "a = np.arange(9).reshape(3, 3)\n",
    "a[1, 2]"
   ]
  },
  {
   "cell_type": "code",
   "execution_count": 21,
   "metadata": {},
   "outputs": [
    {
     "data": {
      "text/plain": [
       "array([[4, 5],\n",
       "       [7, 8]])"
      ]
     },
     "execution_count": 21,
     "metadata": {},
     "output_type": "execute_result"
    }
   ],
   "source": [
    "a[1:, 1:3]"
   ]
  },
  {
   "cell_type": "code",
   "execution_count": 22,
   "metadata": {},
   "outputs": [
    {
     "data": {
      "text/plain": [
       "array([2, 4, 6, 8])"
      ]
     },
     "execution_count": 22,
     "metadata": {},
     "output_type": "execute_result"
    }
   ],
   "source": [
    "d = np.arange(1, 10)\n",
    "d[[1, 3, 5, 7]]"
   ]
  },
  {
   "cell_type": "code",
   "execution_count": 23,
   "metadata": {},
   "outputs": [
    {
     "data": {
      "text/plain": [
       "array([[0, 1, 5, 6],\n",
       "       [2, 3, 7, 8]])"
      ]
     },
     "execution_count": 23,
     "metadata": {},
     "output_type": "execute_result"
    }
   ],
   "source": [
    "a = np.arange(4).reshape(2, 2)\n",
    "b = np.arange(5, 9).reshape(2, 2)\n",
    "np.hstack((a, b))"
   ]
  },
  {
   "cell_type": "code",
   "execution_count": 24,
   "metadata": {},
   "outputs": [
    {
     "data": {
      "text/plain": [
       "array([[0, 1],\n",
       "       [2, 3],\n",
       "       [5, 6],\n",
       "       [7, 8]])"
      ]
     },
     "execution_count": 24,
     "metadata": {},
     "output_type": "execute_result"
    }
   ],
   "source": [
    "a = np.arange(4).reshape(2, 2)\n",
    "b = np.arange(5, 9).reshape(2, 2)\n",
    "np.vstack((a, b))"
   ]
  },
  {
   "cell_type": "code",
   "execution_count": 25,
   "metadata": {},
   "outputs": [
    {
     "data": {
      "text/plain": [
       "array([1., 1., 1., 1.])"
      ]
     },
     "execution_count": 25,
     "metadata": {},
     "output_type": "execute_result"
    }
   ],
   "source": [
    "a = np.zeros(4)\n",
    "b = a\n",
    "b += 1\n",
    "a"
   ]
  },
  {
   "cell_type": "code",
   "execution_count": 26,
   "metadata": {},
   "outputs": [
    {
     "name": "stdout",
     "output_type": "stream",
     "text": [
      "[0. 0. 0. 0.]\n"
     ]
    }
   ],
   "source": [
    "a = np.zeros(4)\n",
    "b += a.copy()\n",
    "b += 1\n",
    "print(a)"
   ]
  },
  {
   "cell_type": "code",
   "execution_count": 27,
   "metadata": {},
   "outputs": [
    {
     "data": {
      "image/png": "[encoded data removed]",
      "text/plain": [
       "<Figure size 432x288 with 1 Axes>"
      ]
     },
     "metadata": {
      "needs_background": "light"
     },
     "output_type": "display_data"
    }
   ],
   "source": [
    "%matplotlib inline\n",
    "import numpy as np\n",
    "import matplotlib.pyplot as plt\n",
    "\n",
    "s = np.sin(np.pi*np.arange(0.0, 2.0, 0.01))\n",
    "t = plt.plot(s)"
   ]
  },
  {
   "cell_type": "code",
   "execution_count": 28,
   "metadata": {},
   "outputs": [
    {
     "data": {
      "image/png": "[encoded data removed]",
      "text/plain": [
       "<Figure size 432x288 with 1 Axes>"
      ]
     },
     "metadata": {
      "needs_background": "light"
     },
     "output_type": "display_data"
    }
   ],
   "source": [
    "x = np.random.randn(5000)\n",
    "y = np.random.randn(5000)\n",
    "t = plt.plot(x, y, 'o', alpha=0.1)"
   ]
  },
  {
   "cell_type": "code",
   "execution_count": 29,
   "metadata": {},
   "outputs": [
    {
     "name": "stderr",
     "output_type": "stream",
     "text": [
      "/Users/saitouyouichirou/opt/anaconda3/lib/python3.7/site-packages/ipykernel_launcher.py:6: FutureWarning: `rcond` parameter will change to the default of machine precision times ``max(M, N)`` where M and N are the input matrix dimensions.\n",
      "To use the future default and silence this warning we advise to pass `rcond=None`, to keep using the old, explicitly pass `rcond=-1`.\n",
      "  \n"
     ]
    },
    {
     "data": {
      "image/png": "[encoded data removed]",
      "text/plain": [
       "<Figure size 432x288 with 1 Axes>"
      ]
     },
     "metadata": {
      "needs_background": "light"
     },
     "output_type": "display_data"
    }
   ],
   "source": [
    "x = np.array([1.628, 3.363, 5.145, 7.683, 9.855])\n",
    "y = np.array([1.257, 3.672, 5.841, 7.951, 9.775])\n",
    "\n",
    "a = np.array([x, np.ones(x.size)])\n",
    "a = a.T\n",
    "m, c = np.linalg.lstsq(a, y)[0]\n",
    "t = plt.plot(x, y, 'o')\n",
    "t = plt.plot(x, (m*x + c))"
   ]
  },
  {
   "cell_type": "code",
   "execution_count": 30,
   "metadata": {},
   "outputs": [
    {
     "data": {
      "image/png": "[encoded data removed]",
      "text/plain": [
       "<Figure size 432x288 with 1 Axes>"
      ]
     },
     "metadata": {
      "needs_background": "light"
     },
     "output_type": "display_data"
    }
   ],
   "source": [
    "s = np.sin(np.pi*np.arange(0.0, 2.0, 0.001))\n",
    "t = plt.plot(s, linestyle='--', linewidth=4)"
   ]
  },
  {
   "cell_type": "code",
   "execution_count": 31,
   "metadata": {},
   "outputs": [
    {
     "data": {
      "image/png": "[encoded data removed]",
      "text/plain": [
       "<Figure size 432x288 with 1 Axes>"
      ]
     },
     "metadata": {
      "needs_background": "light"
     },
     "output_type": "display_data"
    }
   ],
   "source": [
    "import numpy as np\n",
    "\n",
    "p_male = np.loadtxt('male_1944_2014.csv', delimiter=\",\", skiprows=1, usecols=range(1, 22))\n",
    "p_female= np. loadtxt('female_1944_2014.csv', delimiter=\",\", skiprows=1, usecols=range(1, 22))\n",
    "\n",
    "p_total = p_male + p_female\n",
    "p_yearly = p_total.sum(axis=1)\n",
    "\n",
    "%matplotlib inline\n",
    "import matplotlib.pyplot as plt\n",
    "\n",
    "t = plt.plot(range(1944, 2015), p_yearly)\n",
    "plt.ylim(0, 130000)\n",
    "plt.grid(True)"
   ]
  },
  {
   "cell_type": "code",
   "execution_count": 32,
   "metadata": {},
   "outputs": [
    {
     "data": {
      "image/png": "[encoded data removed]",
      "text/plain": [
       "<Figure size 432x288 with 1 Axes>"
      ]
     },
     "metadata": {
      "needs_background": "light"
     },
     "output_type": "display_data"
    }
   ],
   "source": [
    "tfr = np.loadtxt('total_fertility_rate.csv', delimiter=\",\", skiprows=1)\n",
    "t = plt.plot(range(1960, 2015), tfr, ls=\":\")\n",
    "t = plt.plot([1960, 2015], [2.07, 2.07])"
   ]
  },
  {
   "cell_type": "code",
   "execution_count": 33,
   "metadata": {},
   "outputs": [],
   "source": [
    "from matplotlib import gridspec\n",
    "\n",
    "def show_pgraph(year, arr1, arr2, arr3, ymin, ymax, ydim=1):\n",
    "    #人口ピラミッドを標示する\n",
    "    #表示する人口のインデックスを得る\n",
    "    idx = int((year - ymin) / ydim)\n",
    "    #人口ピラミッドと人口グラフのグリッドを生成\n",
    "    gs = gridspec.GridSpec(2, 2, height_ratios=(3, 2))\n",
    "    #グラフの配置を決める\n",
    "    ax = [plt.subplot(gs[0, 0]), plt.subplot(gs[0, 1]), plt.subplot(gs[1, : ])]\n",
    "    #男性の人口ピラミッドを描く\n",
    "    ax[0].barh(range(0, 101, 5), arr1[idx], height =3)\n",
    "    ax[0].set(ylim=(0, 100), xlim=(0, 6000))\n",
    "    ax[0].invert_xaxis()\n",
    "    ax[0].yaxis.tick_right()\n",
    "    #女性のピラミッドを描く\n",
    "    ax[1].barh(range(0, 101, 5), arr2[idx], height =3)\n",
    "    ax[1].tick_params(labelleft='off')\n",
    "    ax[1].set(ylim=(0, 100), xlim=(0, 6000))\n",
    "    #人口グラフを描き四隅に線を引く\n",
    "    ax[2].plot(range(ymin, ymax+1, ydim), arr3, ls=\":\")\n",
    "    ax[2].plot([year, year], [0, 140000])"
   ]
  },
  {
   "cell_type": "code",
   "execution_count": 34,
   "metadata": {},
   "outputs": [
    {
     "data": {
      "image/png": "[encoded data removed]",
      "text/plain": [
       "<Figure size 432x288 with 3 Axes>"
      ]
     },
     "metadata": {
      "needs_background": "light"
     },
     "output_type": "display_data"
    }
   ],
   "source": [
    "show_pgraph(1950, p_male, p_female, p_yearly, 1944, 2014)"
   ]
  },
  {
   "cell_type": "code",
   "execution_count": 35,
   "metadata": {},
   "outputs": [
    {
     "data": {
      "application/vnd.jupyter.widget-view+json": {
       "model_id": "a9dd8dace1e4450084611c2e24f80646",
       "version_major": 2,
       "version_minor": 0
      },
      "text/plain": [
       "interactive(children=(IntSlider(value=1944, description='year', max=2014, min=1944, step=5), Output()), _dom_c…"
      ]
     },
     "metadata": {},
     "output_type": "display_data"
    }
   ],
   "source": [
    "from ipywidgets import interact, IntSlider, fixed\n",
    "\n",
    "t = interact(show_pgraph, year=IntSlider(min=1944, max=2014, step=5), arr1=fixed(p_male), arr2=fixed(p_female),\n",
    "            arr3=fixed(p_yearly), ymin=fixed(1944), ymax=fixed(2014), ydim=fixed(1))"
   ]
  },
  {
   "cell_type": "code",
   "execution_count": 36,
   "metadata": {},
   "outputs": [],
   "source": [
    "lifechart = np.loadtxt('lifechart2014.csv', delimiter=\",\", usecols=[3])\n",
    "rev_lifechart = np.ones(lifechart.size)-lifechart\n",
    "rep_level = np.array([0.0041, 0.107, 0.19, 0.0697, 0.017, 0.0021, 0.0001])\n",
    "high_rate = np.array([0.0036, 0.0514, 0.1593, 0.0927, 0.0187, 0.0023, 0.0001])"
   ]
  },
  {
   "cell_type": "code",
   "execution_count": 37,
   "metadata": {},
   "outputs": [],
   "source": [
    "#男女の事項データを推定するarrayを定義\n",
    "fp_male = np.array(p_male[-2:])\n",
    "fp_female = np.array(p_female[-2:])\n",
    "\n",
    "#人口置き換え水準に戻る時間（割る５）\n",
    "recover_in = 5\n",
    "\n",
    "for i in range(20):\n",
    "    #5年ごと100年間分繰り替えず\n",
    "    #直近の5歳階級別で新しい人口を初期化\n",
    "    new_fp_male = fp_male[-1]\n",
    "    new_fp_female = fp_female[-1]\n",
    "    #出生率を設定\n",
    "    if i > recover_in:\n",
    "        f_rate = rep_level\n",
    "    else:\n",
    "        f_rate = high_rate\n",
    "    #15-49際の女性人口に出生率をかけて新生児数を計算\n",
    "    newborn = np.sum(new_fp_female[3:10]*f_rate)*5\n",
    "    #直近の5歳階級別人口のインデックスを\n",
    "    #右にずらし、新生児を左に連結\n",
    "    new_fp_male = np.hstack(([newborn*0.4878], new_fp_male[:-1]))\n",
    "    new_fp_female = np.hstack(([newborn*0.5122], new_fp_female[:-1]))\n",
    "    #各階級の人口に死亡率を適用\n",
    "    new_fp_male *= rev_lifechart\n",
    "    new_fp_female *= rev_lifechart\n",
    "    #新しい推定人口を追加\n",
    "    fp_male = np.vstack((fp_male, new_fp_male))\n",
    "    fp_female = np.vstack((fp_female, new_fp_female))\n",
    "\n",
    "#男女合算の5再階級別人口、5年毎の推定総人口のarrayを作る\n",
    "fp_total = fp_male + fp_female\n",
    "fp_sum = np.array([np.sum(x) for x in fp_total])"
   ]
  },
  {
   "cell_type": "code",
   "execution_count": 38,
   "metadata": {},
   "outputs": [
    {
     "data": {
      "image/png": "[encoded data removed]",
      "text/plain": [
       "<Figure size 432x288 with 1 Axes>"
      ]
     },
     "metadata": {
      "needs_background": "light"
     },
     "output_type": "display_data"
    }
   ],
   "source": [
    "ｔ = plt.plot(range(2013, 2120, 5), fp_sum)\n",
    "t = plt.ylim([0, 130000])\n",
    "plt.grid(True)"
   ]
  },
  {
   "cell_type": "code",
   "execution_count": 39,
   "metadata": {},
   "outputs": [
    {
     "data": {
      "application/vnd.jupyter.widget-view+json": {
       "model_id": "d853a14d1ebd4be2b6f20938acc7fd15",
       "version_major": 2,
       "version_minor": 0
      },
      "text/plain": [
       "interactive(children=(IntSlider(value=2013, description='year', max=2113, min=2013, step=5), Output()), _dom_c…"
      ]
     },
     "metadata": {},
     "output_type": "display_data"
    }
   ],
   "source": [
    "t = interact(show_pgraph, year=IntSlider(min=2013, max=2113, step=5), arr1=fixed(fp_male), arr2=fixed(fp_female),\n",
    "            arr3=fixed(fp_sum), ymin=fixed(2013), ymax=fixed(2120), ydim=fixed(5))"
   ]
  },
  {
   "cell_type": "code",
   "execution_count": 40,
   "metadata": {},
   "outputs": [],
   "source": [
    "import numpy as np\n",
    "\n",
    "#乱数のシードを設定\n",
    "np.random.seed(9)\n",
    "#0から1まで100個の数値を生成、乱数要素を混ぜる前のx\n",
    "x_orig = np.linspace(0, 1, 100)\n",
    "\n",
    "def f(x):\n",
    "    #xに田するsinを返す関数\n",
    "    return np.sin(2 * np.pi * x)\n",
    "\n",
    "#0から1まで100個のばらけたサンプルデータ（x)を生成\n",
    "x = np.random.uniform(0, 1, size=100)[:, np.newaxis]\n",
    "#xに対応するsinに乱数値を足してサンプルデータ(y)を生成\n",
    "y = f(x) + np.random.normal(scale=0.3, size=100)[:, np.newaxis]"
   ]
  },
  {
   "cell_type": "code",
   "execution_count": 41,
   "metadata": {},
   "outputs": [
    {
     "data": {
      "text/plain": [
       "(0, 1)"
      ]
     },
     "execution_count": 41,
     "metadata": {},
     "output_type": "execute_result"
    },
    {
     "data": {
      "image/png": "[encoded data removed]",
      "text/plain": [
       "<Figure size 432x288 with 1 Axes>"
      ]
     },
     "metadata": {
      "needs_background": "light"
     },
     "output_type": "display_data"
    }
   ],
   "source": [
    "%matplotlib inline\n",
    "import matplotlib.pyplot as plt\n",
    "from sklearn.model_selection import train_test_split\n",
    "\n",
    "#学習用データとテスト用データに分ける\n",
    "x_train, x_test, y_train, y_test = train_test_split(x, y, test_size=0.8)\n",
    "\n",
    "#元のsinとサンプルデータをplot\n",
    "plt.plot(x_orig, f(x_orig), ls=':')\n",
    "plt.scatter(x_train, y_train)\n",
    "plt.xlim((0, 1))"
   ]
  },
  {
   "cell_type": "code",
   "execution_count": 42,
   "metadata": {},
   "outputs": [
    {
     "data": {
      "image/png": "[encoded data removed]",
      "text/plain": [
       "<Figure size 576x360 with 4 Axes>"
      ]
     },
     "metadata": {
      "needs_background": "light"
     },
     "output_type": "display_data"
    }
   ],
   "source": [
    "from sklearn.linear_model import LinearRegression\n",
    "from sklearn.preprocessing import PolynomialFeatures\n",
    "from sklearn.pipeline import make_pipeline\n",
    "\n",
    "#2×2のグラフを描く準備をする\n",
    "fig, axs = plt.subplots(2, 2, figsize=(8, 5))\n",
    "\n",
    "#次数0,1,3,9について学習した結果を表示\n",
    "for ax, deg in zip(axs.ravel(), [0, 1, 3, 9]):\n",
    "    #パイプラインを作る\n",
    "    e = make_pipeline(PolynomialFeatures(deg), LinearRegression())\n",
    "    #学習セットで学習する\n",
    "    e.fit(x_train, y_train)\n",
    "    #元のxを与えて予測\n",
    "    px = e.predict(x_orig[:, np.newaxis])\n",
    "    #予測の結果のグラフとテストデータの点を描画\n",
    "    ax.scatter(x_train, y_train)\n",
    "    ax.plot(x_orig, px)\n",
    "    ax.set(xlim=(0, 1), ylim=(-2, 2), ylabel='y', xlabel='x', title='degree={}'.format(deg))\n",
    "    \n",
    "plt.tight_layout()"
   ]
  },
  {
   "cell_type": "code",
   "execution_count": 43,
   "metadata": {},
   "outputs": [
    {
     "data": {
      "text/plain": [
       "<matplotlib.legend.Legend at 0x118b7e910>"
      ]
     },
     "execution_count": 43,
     "metadata": {},
     "output_type": "execute_result"
    },
    {
     "data": {
      "image/png": "[encoded data removed]",
      "text/plain": [
       "<Figure size 432x288 with 1 Axes>"
      ]
     },
     "metadata": {
      "needs_background": "light"
     },
     "output_type": "display_data"
    }
   ],
   "source": [
    "from sklearn.metrics import mean_squared_error\n",
    "\n",
    "#実データとの誤差を保持するarray\n",
    "train_error = np.empty(10)\n",
    "test_error = np.empty(10)\n",
    "#次数０から９について調べる\n",
    "for deg in range(10):\n",
    "    #モデルを作る\n",
    "    e = make_pipeline(PolynomialFeatures(deg), LinearRegression())\n",
    "    e.fit(x_train, y_train)\n",
    "    #テストデータを使って、予測値と実際の値の誤差を調べる\n",
    "    train_error[deg] = mean_squared_error(y_train, e.predict(x_train))\n",
    "    test_error[deg] = mean_squared_error(y_test, e.predict(x_test))\n",
    "    \n",
    "#グラフを描く\n",
    "plt.plot(np.arange(10), train_error, ls=':', label='train')\n",
    "plt.plot(np.arange(10), test_error, ls='-', label='test')\n",
    "plt.ylim((0, 1))\n",
    "plt.legend(loc='upper left')"
   ]
  },
  {
   "cell_type": "code",
   "execution_count": 47,
   "metadata": {},
   "outputs": [],
   "source": [
    "import numpy as np\n",
    "from sklearn.model_selection import train_test_split\n",
    "\n",
    "np.random.seed(9)\n",
    "#男女のタグ付きひらがなの名前データを読み込む\n",
    "txtbody = open('names.txt', encoding='utf-8')\n",
    "#Numpyのarrayに変換\n",
    "jnames = np.array([x.split() for x in txtbody], dtype='U12')\n",
    "#名前と性別に分割\n",
    "names_train, gender_train = jnames[:, 1], jnames[:, 0]"
   ]
  },
  {
   "cell_type": "code",
   "execution_count": 49,
   "metadata": {},
   "outputs": [],
   "source": [
    "def split_in_2words(name):\n",
    "    return [name[i:i+2] for i in range(len(name)-1)]"
   ]
  },
  {
   "cell_type": "code",
   "execution_count": 51,
   "metadata": {},
   "outputs": [],
   "source": [
    "from sklearn.feature_extraction.text import CountVectorizer\n",
    "bow_t = CountVectorizer(analyzer=split_in_2words).fit(names_train)"
   ]
  },
  {
   "cell_type": "code",
   "execution_count": 53,
   "metadata": {},
   "outputs": [
    {
     "name": "stdout",
     "output_type": "stream",
     "text": [
      "  (0, 283)\t2\n",
      "  (0, 1898)\t1\n"
     ]
    }
   ],
   "source": [
    "name = 'かんかん'\n",
    "b1 = bow_t.transform([name])\n",
    "print(b1[0])"
   ]
  },
  {
   "cell_type": "code",
   "execution_count": 55,
   "metadata": {},
   "outputs": [
    {
     "name": "stdout",
     "output_type": "stream",
     "text": [
      "かん\n",
      "んか\n"
     ]
    }
   ],
   "source": [
    "print(bow_t.get_feature_names()[283])\n",
    "print(bow_t.get_feature_names()[1898])"
   ]
  },
  {
   "cell_type": "code",
   "execution_count": 57,
   "metadata": {},
   "outputs": [],
   "source": [
    "names_bow = bow_t.transform(names_train)"
   ]
  },
  {
   "cell_type": "code",
   "execution_count": 59,
   "metadata": {},
   "outputs": [],
   "source": [
    "from sklearn.feature_extraction.text import TfidfTransformer\n",
    "\n",
    "tfidf_t = TfidfTransformer().fit(names_bow)"
   ]
  },
  {
   "cell_type": "code",
   "execution_count": 61,
   "metadata": {},
   "outputs": [
    {
     "name": "stdout",
     "output_type": "stream",
     "text": [
      "  (0, 1898)\t0.530554460022041\n",
      "  (0, 283)\t0.8476508508523546\n"
     ]
    }
   ],
   "source": [
    "tfidf1 = tfidf_t.transform(b1)\n",
    "print(tfidf1)"
   ]
  },
  {
   "cell_type": "code",
   "execution_count": 63,
   "metadata": {},
   "outputs": [],
   "source": [
    "from sklearn.naive_bayes import MultinomialNB\n",
    "#文字列の重み付けと正規化を行う\n",
    "names_tfidf = tfidf_t.transform(names_bow)\n",
    "#学習を実行\n",
    "namegender_detector = MultinomialNB().fit(names_tfidf, gender_train)"
   ]
  },
  {
   "cell_type": "code",
   "execution_count": 65,
   "metadata": {},
   "outputs": [
    {
     "name": "stdout",
     "output_type": "stream",
     "text": [
      "boy\n"
     ]
    }
   ],
   "source": [
    "print(namegender_detector.predict(tfidf1)[0])"
   ]
  },
  {
   "cell_type": "code",
   "execution_count": 72,
   "metadata": {},
   "outputs": [],
   "source": [
    "def predict_gender(name):\n",
    "    bow = bow_t.transform([name])\n",
    "    n_tfidf = tfidf_t.transform(bow)\n",
    "    return namegender_detector.predict(n_tfidf)[0]"
   ]
  },
  {
   "cell_type": "code",
   "execution_count": 75,
   "metadata": {},
   "outputs": [
    {
     "name": "stdout",
     "output_type": "stream",
     "text": [
      "boy\n"
     ]
    }
   ],
   "source": [
    "print(predict_gender(\"りん\"))"
   ]
  }
 ],
 "metadata": {
  "kernelspec": {
   "display_name": "Python 3",
   "language": "python",
   "name": "python3"
  },
  "language_info": {
   "codemirror_mode": {
    "name": "ipython",
    "version": 3
   },
   "file_extension": ".py",
   "mimetype": "text/x-python",
   "name": "python",
   "nbconvert_exporter": "python",
   "pygments_lexer": "ipython3",
   "version": "3.7.6"
  }
 },
 "nbformat": 4,
 "nbformat_minor": 4
}
