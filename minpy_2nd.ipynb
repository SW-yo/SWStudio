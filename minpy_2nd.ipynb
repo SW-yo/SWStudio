{
 "cells": [
  {
   "cell_type": "code",
   "execution_count": 23,
   "metadata": {},
   "outputs": [
    {
     "name": "stdout",
     "output_type": "stream",
     "text": [
      "神奈川県\n"
     ]
    }
   ],
   "source": [
    "purple ={\"ニックネーム\":\"れにちゃん\", \"出身地\":\"神奈川県\",\"キャッチフレーズ\":\"感電少女\"}\n",
    "print(purple[\"出身地\"])"
   ]
  },
  {
   "cell_type": "code",
   "execution_count": 5,
   "metadata": {},
   "outputs": [
    {
     "data": {
      "text/plain": [
       "{'ニックネーム': 'れにちゃん', '出身地': '神奈川県', 'キャッチフレーズ': '感電少女'}"
      ]
     },
     "execution_count": 5,
     "metadata": {},
     "output_type": "execute_result"
    }
   ],
   "source": [
    "purple"
   ]
  },
  {
   "cell_type": "code",
   "execution_count": 7,
   "metadata": {},
   "outputs": [
    {
     "data": {
      "text/plain": [
       "{'ニックネーム': 'れにちゃん', '出身地': '神奈川県', 'キャッチフレーズ': '鋼少女'}"
      ]
     },
     "execution_count": 7,
     "metadata": {},
     "output_type": "execute_result"
    }
   ],
   "source": [
    "purple[\"キャッチフレーズ\"] = \"鋼少女\"\n",
    "purple"
   ]
  },
  {
   "cell_type": "code",
   "execution_count": 24,
   "metadata": {},
   "outputs": [
    {
     "data": {
      "text/plain": [
       "{'ニックネーム': 'れにちゃん', '出身地': '神奈川県', 'キャッチフレーズ': '感電少女', '生年月日': '1993年6月２１日'}"
      ]
     },
     "execution_count": 24,
     "metadata": {},
     "output_type": "execute_result"
    }
   ],
   "source": [
    "purple[\"生年月日\"] = \"1993年6月２１日\"\n",
    "purple"
   ]
  },
  {
   "cell_type": "code",
   "execution_count": 14,
   "metadata": {},
   "outputs": [
    {
     "ename": "KeyError",
     "evalue": "'ニックネーム'",
     "output_type": "error",
     "traceback": [
      "\u001b[0;31m---------------------------------------------------------------------------\u001b[0m",
      "\u001b[0;31mKeyError\u001b[0m                                  Traceback (most recent call last)",
      "\u001b[0;32m<ipython-input-14-71b5875b9b46>\u001b[0m in \u001b[0;36m<module>\u001b[0;34m\u001b[0m\n\u001b[0;32m----> 1\u001b[0;31m \u001b[0;32mdel\u001b[0m \u001b[0mpurple\u001b[0m\u001b[0;34m[\u001b[0m\u001b[0;34m\"ニックネーム\"\u001b[0m\u001b[0;34m]\u001b[0m\u001b[0;34m\u001b[0m\u001b[0;34m\u001b[0m\u001b[0m\n\u001b[0m\u001b[1;32m      2\u001b[0m \u001b[0mpurple\u001b[0m\u001b[0;34m\u001b[0m\u001b[0;34m\u001b[0m\u001b[0m\n",
      "\u001b[0;31mKeyError\u001b[0m: 'ニックネーム'"
     ]
    }
   ],
   "source": [
    "del purple[\"ニックネーム\"]\n",
    "purple"
   ]
  },
  {
   "cell_type": "code",
   "execution_count": 18,
   "metadata": {},
   "outputs": [],
   "source": [
    "def convert_number(num):\n",
    "    #アラビア数字とローマ数字の対応表をディクショナリに定義\n",
    "    roman_nums = {1:\"Ⅰ\", 2:\"Ⅱ\", 3:\"Ⅲ\", 4:\"Ⅳ\", 5:\"Ⅴ\", 6:\"Ⅵ\", 7:\"Ⅶ\", 8:\"Ⅷ\", 9:\"Ⅸ\"}\n",
    "    #ディクショナリのキーとして引数の整数が存在していたらキーに対応する値を戻り地にする\n",
    "    if num in roman_nums:\n",
    "        return roman_nums[num]\n",
    "    else:\n",
    "        return \"[変換できません]\""
   ]
  },
  {
   "cell_type": "code",
   "execution_count": 22,
   "metadata": {},
   "outputs": [
    {
     "data": {
      "text/plain": [
       "'Ⅵ'"
      ]
     },
     "execution_count": 22,
     "metadata": {},
     "output_type": "execute_result"
    }
   ],
   "source": [
    "convert_number(6)"
   ]
  },
  {
   "cell_type": "code",
   "execution_count": 1,
   "metadata": {},
   "outputs": [
    {
     "ename": "NameError",
     "evalue": "name 'purple' is not defined",
     "output_type": "error",
     "traceback": [
      "\u001b[0;31m---------------------------------------------------------------------------\u001b[0m",
      "\u001b[0;31mNameError\u001b[0m                                 Traceback (most recent call last)",
      "\u001b[0;32m<ipython-input-1-70d80b2df93f>\u001b[0m in \u001b[0;36m<module>\u001b[0;34m\u001b[0m\n\u001b[0;32m----> 1\u001b[0;31m \u001b[0;32mfor\u001b[0m \u001b[0mkey\u001b[0m \u001b[0;32min\u001b[0m \u001b[0mpurple\u001b[0m\u001b[0;34m:\u001b[0m\u001b[0;34m\u001b[0m\u001b[0;34m\u001b[0m\u001b[0m\n\u001b[0m\u001b[1;32m      2\u001b[0m     \u001b[0mprint\u001b[0m\u001b[0;34m(\u001b[0m\u001b[0mkey\u001b[0m\u001b[0;34m,\u001b[0m \u001b[0mpurple\u001b[0m\u001b[0;34m[\u001b[0m\u001b[0mkey\u001b[0m\u001b[0;34m]\u001b[0m\u001b[0;34m)\u001b[0m\u001b[0;34m\u001b[0m\u001b[0;34m\u001b[0m\u001b[0m\n",
      "\u001b[0;31mNameError\u001b[0m: name 'purple' is not defined"
     ]
    }
   ],
   "source": [
    "for key in purple:\n",
    "    print(key, purple[key])"
   ]
  },
  {
   "cell_type": "code",
   "execution_count": 4,
   "metadata": {},
   "outputs": [
    {
     "data": {
      "text/plain": [
       "{1, 2, 3, 5, 7, 8, 13, 17}"
      ]
     },
     "execution_count": 4,
     "metadata": {},
     "output_type": "execute_result"
    }
   ],
   "source": [
    "prime = {2, 3, 5, 7, 13, 17}\n",
    "fib = {1, 1, 2, 3, 5, 8, 13}\n",
    "\n",
    "prime_fib = prime | fib\n",
    "prime_fib"
   ]
  },
  {
   "cell_type": "code",
   "execution_count": 7,
   "metadata": {},
   "outputs": [
    {
     "data": {
      "text/plain": [
       "{1, 3, 5}"
      ]
     },
     "execution_count": 7,
     "metadata": {},
     "output_type": "execute_result"
    }
   ],
   "source": [
    "dice = {1, 2, 3, 4, 5, 6}\n",
    "even = {2, 4, 6, 8, 10}\n",
    "\n",
    "odd_dice = dice - even\n",
    "odd_dice"
   ]
  },
  {
   "cell_type": "code",
   "execution_count": 10,
   "metadata": {},
   "outputs": [
    {
     "data": {
      "text/plain": [
       "{'秋田', '青森'}"
      ]
     },
     "execution_count": 10,
     "metadata": {},
     "output_type": "execute_result"
    }
   ],
   "source": [
    "prefs = {\"北海道\", \"青森\", \"秋田\", \"岩手\"}\n",
    "capitals = {\"札幌\", \"青森\", \"秋田\", \"盛岡\"}\n",
    "\n",
    "prefs_cap = prefs & capitals\n",
    "prefs_cap"
   ]
  },
  {
   "cell_type": "code",
   "execution_count": 18,
   "metadata": {},
   "outputs": [
    {
     "data": {
      "text/plain": [
       "{'北海道', '岩手', '札幌', '盛岡'}"
      ]
     },
     "execution_count": 18,
     "metadata": {},
     "output_type": "execute_result"
    }
   ],
   "source": [
    "prefs = {\"北海道\", \"青森\", \"秋田\", \"岩手\"}\n",
    "capitals = {\"札幌\", \"青森\", \"秋田\", \"盛岡\"}\n",
    "\n",
    "pref_caps2 = prefs ^ capitals\n",
    "pref_caps2"
   ]
  },
  {
   "cell_type": "code",
   "execution_count": 19,
   "metadata": {},
   "outputs": [
    {
     "name": "stdout",
     "output_type": "stream",
     "text": [
      "8 7\n"
     ]
    }
   ],
   "source": [
    "codon = ['ATG', 'GGC', 'TCC', 'AAG', 'TTC', 'TGG', 'GAC', 'TCC']\n",
    "s_codon = set(codon)\n",
    "print(len(codon), len(s_codon))"
   ]
  },
  {
   "cell_type": "code",
   "execution_count": 1,
   "metadata": {},
   "outputs": [
    {
     "name": "stdout",
     "output_type": "stream",
     "text": [
      "13は素数でフィボナッチ数でもある\n",
      "2,3は素数でフィボナッチ数でもある\n"
     ]
    }
   ],
   "source": [
    "prime = {2, 3, 5, 7, 13, 17}\n",
    "fib = {1, 1, 2, 3, 5, 8, 13}\n",
    "\n",
    "prime_fib = prime & fib\n",
    "if 13 in prime_fib:\n",
    "    print(\"13は素数でフィボナッチ数でもある\")\n",
    "if {2, 3} <= prime_fib:\n",
    "    print(\"2,3は素数でフィボナッチ数でもある\")"
   ]
  },
  {
   "cell_type": "code",
   "execution_count": 4,
   "metadata": {},
   "outputs": [
    {
     "data": {
      "text/plain": [
       "'Februarry'"
      ]
     },
     "execution_count": 4,
     "metadata": {},
     "output_type": "execute_result"
    }
   ],
   "source": [
    "month_name = (\"January\", \"Februarry\", \"March\", \"April\", \"May\", \"June\", \"July\")\n",
    "month_name[1]"
   ]
  },
  {
   "cell_type": "code",
   "execution_count": 6,
   "metadata": {},
   "outputs": [
    {
     "data": {
      "text/plain": [
       "'December'"
      ]
     },
     "execution_count": 6,
     "metadata": {},
     "output_type": "execute_result"
    }
   ],
   "source": [
    "month_name = month_name + (\"August\", \"September\", \"October\", \"Novemnber\", \"December\")\n",
    "month_name[11]"
   ]
  },
  {
   "cell_type": "code",
   "execution_count": 14,
   "metadata": {},
   "outputs": [
    {
     "name": "stdout",
     "output_type": "stream",
     "text": [
      "岩手県（盛岡）\n"
     ]
    }
   ],
   "source": [
    "pref_capitals = {(43.06417, 141.34694):\"北海道（札幌)\",\n",
    "                 (40.82444, 140.74):\"青森県（青森）\",\n",
    "                 (39.70361, 141.1525):\"岩手県（盛岡）\"\n",
    "}\n",
    "\n",
    "loc = (39.70361, 141.1525)\n",
    "for key in pref_capitals:\n",
    "    if loc ==  key:\n",
    "        print(pref_capitals[key])\n",
    "        break"
   ]
  },
  {
   "cell_type": "code",
   "execution_count": 19,
   "metadata": {},
   "outputs": [
    {
     "name": "stdout",
     "output_type": "stream",
     "text": [
      "青森県（青森）\n"
     ]
    }
   ],
   "source": [
    "loc = (41.768793, 140.72881)\n",
    "nearest_cap = \"\"\n",
    "nearest_dist = 10000\n",
    "for key in pref_capitals:\n",
    "    dist = (loc[0]-key[0])**2+(loc[1]-key[1])**2\n",
    "    if nearest_dist > dist:\n",
    "        nearest_dist = dist\n",
    "        nearest_cap = pref_capitals[key]\n",
    "\n",
    "print(nearest_cap)"
   ]
  },
  {
   "cell_type": "code",
   "execution_count": 1,
   "metadata": {},
   "outputs": [
    {
     "name": "stdout",
     "output_type": "stream",
     "text": [
      "月とお友達です\n"
     ]
    }
   ],
   "source": [
    "v = 30000\n",
    "if v < 28400:\n",
    "    print(\"地上に落下します\")\n",
    "elif v >= 28400 and v < 40300:\n",
    "    print(\"月とお友達です\")\n",
    "elif v >= 40800 and v < 60100:\n",
    "    print(\"惑星の仲間入りです\")\n",
    "elif v >= 60100:\n",
    "    print(\"アルファ・ケンタウリをめざせ\")\n",
    "else:\n",
    "    printt(\"どこにいるかわかりません\")"
   ]
  },
  {
   "cell_type": "code",
   "execution_count": 6,
   "metadata": {},
   "outputs": [
    {
     "name": "stdout",
     "output_type": "stream",
     "text": [
      "1\n",
      "2\n",
      "Fizz\n",
      "4\n",
      "Buzz\n",
      "Fizz\n",
      "7\n",
      "8\n",
      "Fizz\n",
      "Buzz\n",
      "11\n",
      "Fizz\n",
      "13\n",
      "14\n",
      "FizzBuzz\n",
      "16\n",
      "17\n",
      "Fizz\n",
      "19\n",
      "Buzz\n",
      "Fizz\n",
      "22\n",
      "23\n",
      "Fizz\n",
      "Buzz\n",
      "26\n",
      "Fizz\n",
      "28\n",
      "29\n",
      "FizzBuzz\n",
      "31\n",
      "32\n",
      "Fizz\n",
      "34\n",
      "Buzz\n",
      "Fizz\n",
      "37\n",
      "38\n",
      "Fizz\n",
      "Buzz\n",
      "41\n",
      "Fizz\n",
      "43\n",
      "44\n",
      "FizzBuzz\n",
      "46\n",
      "47\n",
      "Fizz\n",
      "49\n",
      "Buzz\n",
      "Fizz\n",
      "52\n",
      "53\n",
      "Fizz\n",
      "Buzz\n",
      "56\n",
      "Fizz\n",
      "58\n",
      "59\n",
      "FizzBuzz\n",
      "61\n",
      "62\n",
      "Fizz\n",
      "64\n",
      "Buzz\n",
      "Fizz\n",
      "67\n",
      "68\n",
      "Fizz\n",
      "Buzz\n",
      "71\n",
      "Fizz\n",
      "73\n",
      "74\n",
      "FizzBuzz\n",
      "76\n",
      "77\n",
      "Fizz\n",
      "79\n",
      "Buzz\n",
      "Fizz\n",
      "82\n",
      "83\n",
      "Fizz\n",
      "Buzz\n",
      "86\n",
      "Fizz\n",
      "88\n",
      "89\n",
      "FizzBuzz\n",
      "91\n",
      "92\n",
      "Fizz\n",
      "94\n",
      "Buzz\n",
      "Fizz\n",
      "97\n",
      "98\n",
      "Fizz\n",
      "Buzz\n"
     ]
    }
   ],
   "source": [
    "cnt = 1\n",
    "while cnt <= 100:\n",
    "    if cnt%3 == 0 and cnt%5 == 0:\n",
    "        print(\"FizzBuzz\")\n",
    "    elif cnt%3 == 0:\n",
    "        print(\"Fizz\")\n",
    "    elif cnt%5 == 0:\n",
    "        print(\"Buzz\")\n",
    "    else:\n",
    "        print(cnt)\n",
    "    cnt += 1"
   ]
  },
  {
   "cell_type": "code",
   "execution_count": 9,
   "metadata": {},
   "outputs": [
    {
     "name": "stdout",
     "output_type": "stream",
     "text": [
      "0：グー、1：チョキ、2：パー、3：やめる3\n"
     ]
    }
   ],
   "source": [
    "from random import randint\n",
    "hands = {0:\"グー\", 1:\"チョキ\", 2:\"パー\"}\n",
    "rulles = {(0, 0):\"あいこ\" , (0,1):\"勝ち\", (0, 2):\"負け\",\n",
    "         (1,0):\"負け\", (1,1):\"あいこ\", (1,2):\"勝ち\",\n",
    "         (2,0):\"勝ち\", (2,1):\"負け\", (2,2):\"あいこ\"\n",
    "}\n",
    "\n",
    "while True:\n",
    "    pc_hand = randint(0, 2)\n",
    "    user_hand_str = input(\"0：グー、1：チョキ、2：パー、3：やめる\")\n",
    "    if user_hand_str ==\"3\":\n",
    "        break\n",
    "    elif user_hand_str not in (\"0\", \"1\", \"2\"):\n",
    "        continue\n",
    "    user_hand = int(user_hand_str)\n",
    "    print(\"あなた：\"+hands[user_hand]+\"、コンピューター：\"+hands[pc_hand])\n",
    "    \n",
    "    print(rulles[user_hand, pc_hand])"
   ]
  },
  {
   "cell_type": "code",
   "execution_count": 12,
   "metadata": {},
   "outputs": [
    {
     "name": "stdout",
     "output_type": "stream",
     "text": [
      "59 は素数です\n"
     ]
    }
   ],
   "source": [
    "a_num = 59\n",
    "for num in range(2, a_num):\n",
    "    if a_num % num == 0:\n",
    "        print(a_num,\"は素数ではありません\")\n",
    "        break\n",
    "else:\n",
    "    print(a_num,\"は素数です\")"
   ]
  },
  {
   "cell_type": "code",
   "execution_count": 15,
   "metadata": {},
   "outputs": [
    {
     "name": "stdout",
     "output_type": "stream",
     "text": [
      "1\n",
      "2\n",
      "Fizz\n",
      "4\n",
      "Buzz\n",
      "Fizz\n",
      "7\n",
      "8\n",
      "Fizz\n",
      "Buzz\n",
      "11\n",
      "Fizz\n",
      "13\n",
      "14\n",
      "FizzBuzz\n",
      "16\n",
      "17\n",
      "Fizz\n",
      "19\n",
      "Buzz\n",
      "Fizz\n",
      "22\n",
      "23\n",
      "Fizz\n",
      "Buzz\n",
      "26\n",
      "Fizz\n",
      "28\n",
      "29\n",
      "FizzBuzz\n",
      "31\n",
      "32\n",
      "Fizz\n",
      "34\n",
      "Buzz\n",
      "Fizz\n",
      "37\n",
      "38\n",
      "Fizz\n",
      "Buzz\n",
      "41\n",
      "Fizz\n",
      "43\n",
      "44\n",
      "FizzBuzz\n",
      "46\n",
      "47\n",
      "Fizz\n",
      "49\n",
      "Buzz\n",
      "Fizz\n",
      "52\n",
      "53\n",
      "Fizz\n",
      "Buzz\n",
      "56\n",
      "Fizz\n",
      "58\n",
      "59\n",
      "FizzBuzz\n",
      "61\n",
      "62\n",
      "Fizz\n",
      "64\n",
      "Buzz\n",
      "Fizz\n",
      "67\n",
      "68\n",
      "Fizz\n",
      "Buzz\n",
      "71\n",
      "Fizz\n",
      "73\n",
      "74\n",
      "FizzBuzz\n",
      "76\n",
      "77\n",
      "Fizz\n",
      "79\n",
      "Buzz\n",
      "Fizz\n",
      "82\n",
      "83\n",
      "Fizz\n",
      "Buzz\n",
      "86\n",
      "Fizz\n",
      "88\n",
      "89\n",
      "FizzBuzz\n",
      "91\n",
      "92\n",
      "Fizz\n",
      "94\n",
      "Buzz\n",
      "Fizz\n",
      "97\n",
      "98\n",
      "Fizz\n",
      "Buzz\n"
     ]
    }
   ],
   "source": [
    "def fizzbuzz(count=100, fizzmod=3, buzzmod=5):\n",
    "    for cnt in range(1, count+1):\n",
    "        if cnt%fizzmod == 0 and cnt%buzzmod == 0:\n",
    "            print(\"FizzBuzz\")\n",
    "        elif cnt%fizzmod == 0:\n",
    "            print(\"Fizz\")\n",
    "        elif cnt%buzzmod == 0:\n",
    "            print(\"Buzz\")\n",
    "        else:\n",
    "            print(cnt)\n",
    "\n",
    "fizzbuzz()"
   ]
  },
  {
   "cell_type": "code",
   "execution_count": 16,
   "metadata": {},
   "outputs": [
    {
     "name": "stdout",
     "output_type": "stream",
     "text": [
      "test_func()の中　＝ 200\n",
      "test_func()の外　＝ 1\n"
     ]
    }
   ],
   "source": [
    "local_var = 1\n",
    "\n",
    "def test_func(an_arg):\n",
    "    local_var = an_arg\n",
    "    print(\"test_func()の中　＝\", local_var)\n",
    "\n",
    "test_func(200)\n",
    "print(\"test_func()の外　＝\", local_var)"
   ]
  }
 ],
 "metadata": {
  "kernelspec": {
   "display_name": "Python 3",
   "language": "python",
   "name": "python3"
  },
  "language_info": {
   "codemirror_mode": {
    "name": "ipython",
    "version": 3
   },
   "file_extension": ".py",
   "mimetype": "text/x-python",
   "name": "python",
   "nbconvert_exporter": "python",
   "pygments_lexer": "ipython3",
   "version": "3.7.6"
  }
 },
 "nbformat": 4,
 "nbformat_minor": 4
}
