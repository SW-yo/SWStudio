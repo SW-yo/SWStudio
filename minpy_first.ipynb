{
 "cells": [
  {
   "cell_type": "code",
   "execution_count": 2,
   "metadata": {},
   "outputs": [
    {
     "data": {
      "text/plain": [
       "40075.008348208"
      ]
     },
     "execution_count": 2,
     "metadata": {},
     "output_type": "execute_result"
    }
   ],
   "source": [
    "pi = 3.141592\n",
    "diameter = 12756.274\n",
    "pi*diameter"
   ]
  },
  {
   "cell_type": "code",
   "execution_count": 1,
   "metadata": {},
   "outputs": [
    {
     "data": {
      "text/plain": [
       "15.463917525773196"
      ]
     },
     "execution_count": 1,
     "metadata": {},
     "output_type": "execute_result"
    }
   ],
   "source": [
    "cal_per_1kg = 7200\n",
    "cal_per_1minjog = 7.76\n",
    "min_to_los1kg = cal_per_1kg / cal_per_1minjog\n",
    "\n",
    "hours_to_lose1kg = min_to_los1kg/60\n",
    "hours_to_lose1kg"
   ]
  },
  {
   "cell_type": "code",
   "execution_count": 4,
   "metadata": {},
   "outputs": [
    {
     "data": {
      "text/plain": [
       "'でもね私のエネルギーはすでにインフィニティだよ'"
      ]
     },
     "execution_count": 4,
     "metadata": {},
     "output_type": "execute_result"
    }
   ],
   "source": [
    "spam = \"spam\"\n",
    "a_lylic = \"でもね私のエネルギーは\"\n",
    "a_lylic = a_lylic + \"すでにインフィニティだよ\"\n",
    "a_lylic"
   ]
  },
  {
   "cell_type": "code",
   "execution_count": 6,
   "metadata": {},
   "outputs": [
    {
     "data": {
      "text/plain": [
       "'ずっと笑顔ばかり選んでる泣き顔見せるのを遮ってた'"
      ]
     },
     "execution_count": 6,
     "metadata": {},
     "output_type": "execute_result"
    }
   ],
   "source": [
    "lylic2 = \"ずっと笑顔ばかり選んでる\"\n",
    "lylic2 += \"泣き顔見せるのを遮ってた\"\n",
    "lylic2"
   ]
  },
  {
   "cell_type": "code",
   "execution_count": 1,
   "metadata": {},
   "outputs": [
    {
     "data": {
      "text/plain": [
       "'24日'"
      ]
     },
     "execution_count": 1,
     "metadata": {},
     "output_type": "execute_result"
    }
   ],
   "source": [
    "day = 24\n",
    "day_str = str(day)\n",
    "date = day_str + \"日\"\n",
    "date"
   ]
  },
  {
   "cell_type": "code",
   "execution_count": 7,
   "metadata": {},
   "outputs": [
    {
     "data": {
      "text/plain": [
       "[<matplotlib.lines.Line2D at 0x11ec96e90>]"
      ]
     },
     "execution_count": 7,
     "metadata": {},
     "output_type": "execute_result"
    },
    {
     "data": {
      "image/png": "[encoded data removed]",
      "text/plain": [
       "<Figure size 432x288 with 1 Axes>"
      ]
     },
     "metadata": {
      "needs_background": "light"
     },
     "output_type": "display_data"
    }
   ],
   "source": [
    "tokyo_temps = [15.1, 15.4, 15.2, 15.4, 17.0, 16.9]\n",
    "%matplotlib inline\n",
    "import matplotlib.pyplot as plt\n",
    "plt.plot(tokyo_temps)"
   ]
  },
  {
   "cell_type": "code",
   "execution_count": 8,
   "metadata": {},
   "outputs": [
    {
     "data": {
      "text/plain": [
       "[<matplotlib.lines.Line2D at 0x10e4352d0>]"
      ]
     },
     "execution_count": 8,
     "metadata": {},
     "output_type": "execute_result"
    },
    {
     "data": {
      "image/png": "[encoded data removed]",
      "text/plain": [
       "<Figure size 432x288 with 1 Axes>"
      ]
     },
     "metadata": {
      "needs_background": "light"
     },
     "output_type": "display_data"
    }
   ],
   "source": [
    "e_tokyo_temps = [13.6, 13.5, 14.2, 14.8, 14.8]\n",
    "tokyo_temps2 = e_tokyo_temps + tokyo_temps\n",
    "plt.plot(tokyo_temps2)"
   ]
  },
  {
   "cell_type": "code",
   "execution_count": 1,
   "metadata": {},
   "outputs": [
    {
     "data": {
      "text/plain": [
       "['れに', 'あかり', 'かなこ', 'しおり', 'あやか', 'ゆきな']"
      ]
     },
     "execution_count": 1,
     "metadata": {},
     "output_type": "execute_result"
    }
   ],
   "source": [
    "mcz = [\"れに\", \"あかり\", \"かなこ\", \"しおり\", \"あやか\", \"ゆきな\"]\n",
    "mcz"
   ]
  },
  {
   "cell_type": "code",
   "execution_count": 10,
   "metadata": {},
   "outputs": [
    {
     "data": {
      "text/plain": [
       "['れに', 'あかり', 'かなこ', 'しおり', 'あやか', 'ももか']"
      ]
     },
     "execution_count": 10,
     "metadata": {},
     "output_type": "execute_result"
    }
   ],
   "source": [
    "mcz[5] = 'ももか'\n",
    "mcz"
   ]
  },
  {
   "cell_type": "code",
   "execution_count": 12,
   "metadata": {},
   "outputs": [
    {
     "data": {
      "text/plain": [
       "['かなこ', 'しおり', 'あやか', 'ももか']"
      ]
     },
     "execution_count": 12,
     "metadata": {},
     "output_type": "execute_result"
    }
   ],
   "source": [
    "del mcz[0]\n",
    "mcz"
   ]
  },
  {
   "cell_type": "code",
   "execution_count": 18,
   "metadata": {},
   "outputs": [
    {
     "data": {
      "text/plain": [
       "['しおり', 'あやか']"
      ]
     },
     "execution_count": 18,
     "metadata": {},
     "output_type": "execute_result"
    }
   ],
   "source": [
    "momotamai = mcz[1:3]\n",
    "momotamai"
   ]
  },
  {
   "cell_type": "code",
   "execution_count": 1,
   "metadata": {},
   "outputs": [],
   "source": [
    "city_temps = [\n",
    "[14.8, 14.8, 15.1, 15.4, 15.2, 15.4, 17.0, 16.9],\n",
    "[10.0, 10.4, 11.5, 11.2, 10.9, 10.6, 11.8, 12.2],\n",
    "[16.0, 15.5, 15.9, 16.4, 15.9, 15.6, 17.5, 17.1]\n",
    "]\n"
   ]
  },
  {
   "cell_type": "code",
   "execution_count": 3,
   "metadata": {},
   "outputs": [
    {
     "data": {
      "text/plain": [
       "[10.0, 10.4, 11.5, 11.2, 10.9, 10.6, 11.8, 12.2]"
      ]
     },
     "execution_count": 3,
     "metadata": {},
     "output_type": "execute_result"
    }
   ],
   "source": [
    "city_temps[1]"
   ]
  },
  {
   "cell_type": "code",
   "execution_count": 4,
   "metadata": {},
   "outputs": [
    {
     "data": {
      "text/plain": [
       "1.1000000000000014"
      ]
     },
     "execution_count": 4,
     "metadata": {},
     "output_type": "execute_result"
    }
   ],
   "source": [
    "city_temps[2][7] - city_temps[2][0]"
   ]
  },
  {
   "cell_type": "code",
   "execution_count": 7,
   "metadata": {},
   "outputs": [
    {
     "data": {
      "text/plain": [
       "[<matplotlib.lines.Line2D at 0x11f2dbfd0>]"
      ]
     },
     "execution_count": 7,
     "metadata": {},
     "output_type": "execute_result"
    },
    {
     "data": {
      "image/png": "[encoded data removed]",
      "text/plain": [
       "<Figure size 432x288 with 1 Axes>"
      ]
     },
     "metadata": {
      "needs_background": "light"
     },
     "output_type": "display_data"
    }
   ],
   "source": [
    "plt.plot(city_temps[0])\n",
    "plt.plot(city_temps[1])\n",
    "plt.plot(city_temps[2])"
   ]
  },
  {
   "cell_type": "code",
   "execution_count": 10,
   "metadata": {},
   "outputs": [
    {
     "data": {
      "text/plain": [
       "780"
      ]
     },
     "execution_count": 10,
     "metadata": {},
     "output_type": "execute_result"
    }
   ],
   "source": [
    "monk_fish_team = [158, 157, 163, 157, 145]\n",
    "sum(monk_fish_team)"
   ]
  },
  {
   "cell_type": "code",
   "execution_count": 12,
   "metadata": {},
   "outputs": [
    {
     "data": {
      "text/plain": [
       "163"
      ]
     },
     "execution_count": 12,
     "metadata": {},
     "output_type": "execute_result"
    }
   ],
   "source": [
    "max(monk_fish_team)"
   ]
  },
  {
   "cell_type": "code",
   "execution_count": 14,
   "metadata": {},
   "outputs": [
    {
     "data": {
      "text/plain": [
       "145"
      ]
     },
     "execution_count": 14,
     "metadata": {},
     "output_type": "execute_result"
    }
   ],
   "source": [
    "min(monk_fish_team)"
   ]
  },
  {
   "cell_type": "code",
   "execution_count": 17,
   "metadata": {},
   "outputs": [
    {
     "data": {
      "text/plain": [
       "5"
      ]
     },
     "execution_count": 17,
     "metadata": {},
     "output_type": "execute_result"
    }
   ],
   "source": [
    "len(monk_fish_team)"
   ]
  },
  {
   "cell_type": "code",
   "execution_count": 13,
   "metadata": {},
   "outputs": [
    {
     "data": {
      "text/plain": [
       "156.0"
      ]
     },
     "execution_count": 13,
     "metadata": {},
     "output_type": "execute_result"
    }
   ],
   "source": [
    "monk_sum = sum(monk_fish_team)\n",
    "monk_len = len(monk_fish_team)\n",
    "monk_mean = monk_sum / monk_len\n",
    "monk_mean"
   ]
  },
  {
   "cell_type": "code",
   "execution_count": 14,
   "metadata": {},
   "outputs": [
    {
     "data": {
      "text/plain": [
       "[<matplotlib.lines.Line2D at 0x11fe79090>]"
      ]
     },
     "execution_count": 14,
     "metadata": {},
     "output_type": "execute_result"
    },
    {
     "data": {
      "image/png": "[encoded data removed]",
      "text/plain": [
       "<Figure size 432x288 with 1 Axes>"
      ]
     },
     "metadata": {
      "needs_background": "light"
     },
     "output_type": "display_data"
    }
   ],
   "source": [
    "plt.bar([0, 1, 2, 3, 4], monk_fish_team)\n",
    "plt.plot([0, len(monk_fish_team)], [monk_mean, monk_mean], color = 'red')"
   ]
  },
  {
   "cell_type": "code",
   "execution_count": 16,
   "metadata": {},
   "outputs": [
    {
     "name": "stdout",
     "output_type": "stream",
     "text": [
      "れに\n",
      "あかり\n",
      "かなこ\n",
      "しおり\n",
      "あやか\n",
      "ゆきな\n"
     ]
    }
   ],
   "source": [
    "for member in mcz:\n",
    "    print(member)"
   ]
  },
  {
   "cell_type": "code",
   "execution_count": 18,
   "metadata": {},
   "outputs": [
    {
     "data": {
      "text/plain": [
       "35.2"
      ]
     },
     "execution_count": 18,
     "metadata": {},
     "output_type": "execute_result"
    }
   ],
   "source": [
    "total = sum(monk_fish_team)\n",
    "length = len(monk_fish_team)\n",
    "mean = total / length\n",
    "variance = 0\n",
    "\n",
    "for height in monk_fish_team:\n",
    "    variance += (height - mean) ** 2\n",
    "\n",
    "variance = variance / length\n",
    "variance"
   ]
  },
  {
   "cell_type": "code",
   "execution_count": 20,
   "metadata": {},
   "outputs": [
    {
     "data": {
      "text/plain": [
       "5.932958789676531"
      ]
     },
     "execution_count": 20,
     "metadata": {},
     "output_type": "execute_result"
    }
   ],
   "source": [
    "variance ** 0.5"
   ]
  },
  {
   "cell_type": "code",
   "execution_count": 26,
   "metadata": {},
   "outputs": [
    {
     "data": {
      "text/plain": [
       "10.685855136581255"
      ]
     },
     "execution_count": 26,
     "metadata": {},
     "output_type": "execute_result"
    }
   ],
   "source": [
    "volleyball_team = [143, 167, 170, 165]\n",
    "\n",
    "total2 = sum(volleyball_team)\n",
    "length2 = len(volleyball_team)\n",
    "mean2 = total2 / length2\n",
    "variance2 = 0\n",
    "\n",
    "for height in volleyball_team:\n",
    "    variance2 += (height - mean2) ** 2\n",
    "\n",
    "variance2 = variance2 / length2\n",
    "variance2 ** 0.5"
   ]
  },
  {
   "cell_type": "code",
   "execution_count": 28,
   "metadata": {},
   "outputs": [
    {
     "name": "stdout",
     "output_type": "stream",
     "text": [
      "0\n",
      "1\n",
      "2\n",
      "3\n",
      "4\n",
      "5\n",
      "6\n",
      "7\n",
      "8\n",
      "9\n"
     ]
    }
   ],
   "source": [
    "for cnt in range(10):\n",
    "    print(cnt)"
   ]
  },
  {
   "cell_type": "code",
   "execution_count": 1,
   "metadata": {},
   "outputs": [
    {
     "data": {
      "text/plain": [
       "207.89281794113666"
      ]
     },
     "execution_count": 1,
     "metadata": {},
     "output_type": "execute_result"
    }
   ],
   "source": [
    "savings = 100\n",
    "for i in range(15):\n",
    "    savings += savings * 0.05\n",
    "\n",
    "savings"
   ]
  },
  {
   "cell_type": "code",
   "execution_count": 3,
   "metadata": {},
   "outputs": [
    {
     "name": "stdout",
     "output_type": "stream",
     "text": [
      "1番目はTrue\n",
      "3番目はTrue\n"
     ]
    }
   ],
   "source": [
    "if \"GAG\" in \"AUGACGAGAGCU\":\n",
    "    print(\"1番目はTrue\")\n",
    "if \"恋と戦いはあらゆることが正当化されるのよ\" in \"正当化\":\n",
    "    print(\"2番目はTrue\")\n",
    "if \"stumble\" in \"A horse may stumble though he has four legs\":\n",
    "    print(\"3番目はTrue\")"
   ]
  },
  {
   "cell_type": "code",
   "execution_count": 5,
   "metadata": {},
   "outputs": [
    {
     "name": "stdout",
     "output_type": "stream",
     "text": [
      "1番目はTrue\n",
      "3番目はTrue\n"
     ]
    }
   ],
   "source": [
    "if 1 in [0, 1, 2, 3,4]:\n",
    "    print(\"1番目はTrue\")\n",
    "if [1, 2] in [0, 1, 2, 3, 4]:\n",
    "    print(\"2番目はTrue\")\n",
    "if [1, 2] in [0, 1, 2, [1, 2], 3, 4]:\n",
    "    print(\"3番目はTrue\")"
   ]
  },
  {
   "cell_type": "code",
   "execution_count": 7,
   "metadata": {},
   "outputs": [
    {
     "name": "stdout",
     "output_type": "stream",
     "text": [
      "2080 年、れに 87 歳\n"
     ]
    }
   ],
   "source": [
    "a_year = 2080\n",
    "if a_year ==1993:\n",
    "    print(a_year, \"年、れに誕生\")\n",
    "elif a_year > 1993:\n",
    "    print(a_year, \"年、れに\", a_year-1993, \"歳\")"
   ]
  },
  {
   "cell_type": "code",
   "execution_count": 1,
   "metadata": {},
   "outputs": [
    {
     "name": "stdout",
     "output_type": "stream",
     "text": [
      "57 は素数ではありません\n"
     ]
    }
   ],
   "source": [
    "a_num = 57\n",
    "for num in range(2, a_num):\n",
    "    if a_num % num == 0:\n",
    "        print(a_num, \"は素数ではありません\")\n",
    "        break"
   ]
  },
  {
   "cell_type": "code",
   "execution_count": 5,
   "metadata": {},
   "outputs": [
    {
     "data": {
      "text/plain": [
       "499"
      ]
     },
     "execution_count": 5,
     "metadata": {},
     "output_type": "execute_result"
    }
   ],
   "source": [
    "the_list = [101, 123, 152, 123]\n",
    "summary = 0\n",
    "for item in the_list:\n",
    "    summary += item\n",
    "summary"
   ]
  },
  {
   "cell_type": "code",
   "execution_count": 17,
   "metadata": {},
   "outputs": [],
   "source": [
    "def destiny_tank():\n",
    "    tanks = [\"IV号戦車D型\", \"III号戦車J型\", \"チャーチル Mk.VII\", \"M4シャーマン\", \"P40重戦車\", \"T-34/76\"]\n",
    "    num = input(\"好きな数字を入力してください：\")\n",
    "    idx = int(num) % len(tanks)\n",
    "    print(\"あなたの戦車は\")\n",
    "    print(tanks[idx])"
   ]
  },
  {
   "cell_type": "code",
   "execution_count": 19,
   "metadata": {},
   "outputs": [
    {
     "name": "stdout",
     "output_type": "stream",
     "text": [
      "好きな数字を入力してください：\n"
     ]
    },
    {
     "ename": "ValueError",
     "evalue": "invalid literal for int() with base 10: ''",
     "output_type": "error",
     "traceback": [
      "\u001b[0;31m---------------------------------------------------------------------------\u001b[0m",
      "\u001b[0;31mValueError\u001b[0m                                Traceback (most recent call last)",
      "\u001b[0;32m<ipython-input-19-9ca835254213>\u001b[0m in \u001b[0;36m<module>\u001b[0;34m\u001b[0m\n\u001b[0;32m----> 1\u001b[0;31m \u001b[0mdestiny_tank\u001b[0m\u001b[0;34m(\u001b[0m\u001b[0;34m)\u001b[0m\u001b[0;34m\u001b[0m\u001b[0;34m\u001b[0m\u001b[0m\n\u001b[0m",
      "\u001b[0;32m<ipython-input-17-a738acd8a077>\u001b[0m in \u001b[0;36mdestiny_tank\u001b[0;34m()\u001b[0m\n\u001b[1;32m      2\u001b[0m     \u001b[0mtanks\u001b[0m \u001b[0;34m=\u001b[0m \u001b[0;34m[\u001b[0m\u001b[0;34m\"IV号戦車D型\"\u001b[0m\u001b[0;34m,\u001b[0m \u001b[0;34m\"III号戦車J型\"\u001b[0m\u001b[0;34m,\u001b[0m \u001b[0;34m\"チャーチル Mk.VII\"\u001b[0m\u001b[0;34m,\u001b[0m \u001b[0;34m\"M4シャーマン\"\u001b[0m\u001b[0;34m,\u001b[0m \u001b[0;34m\"P40重戦車\"\u001b[0m\u001b[0;34m,\u001b[0m \u001b[0;34m\"T-34/76\"\u001b[0m\u001b[0;34m]\u001b[0m\u001b[0;34m\u001b[0m\u001b[0;34m\u001b[0m\u001b[0m\n\u001b[1;32m      3\u001b[0m     \u001b[0mnum\u001b[0m \u001b[0;34m=\u001b[0m \u001b[0minput\u001b[0m\u001b[0;34m(\u001b[0m\u001b[0;34m\"好きな数字を入力してください：\"\u001b[0m\u001b[0;34m)\u001b[0m\u001b[0;34m\u001b[0m\u001b[0;34m\u001b[0m\u001b[0m\n\u001b[0;32m----> 4\u001b[0;31m     \u001b[0midx\u001b[0m \u001b[0;34m=\u001b[0m \u001b[0mint\u001b[0m\u001b[0;34m(\u001b[0m\u001b[0mnum\u001b[0m\u001b[0;34m)\u001b[0m \u001b[0;34m%\u001b[0m \u001b[0mlen\u001b[0m\u001b[0;34m(\u001b[0m\u001b[0mtanks\u001b[0m\u001b[0;34m)\u001b[0m\u001b[0;34m\u001b[0m\u001b[0;34m\u001b[0m\u001b[0m\n\u001b[0m\u001b[1;32m      5\u001b[0m     \u001b[0mprint\u001b[0m\u001b[0;34m(\u001b[0m\u001b[0;34m\"あなたの戦車は\"\u001b[0m\u001b[0;34m)\u001b[0m\u001b[0;34m\u001b[0m\u001b[0;34m\u001b[0m\u001b[0m\n\u001b[1;32m      6\u001b[0m     \u001b[0mprint\u001b[0m\u001b[0;34m(\u001b[0m\u001b[0mtanks\u001b[0m\u001b[0;34m[\u001b[0m\u001b[0midx\u001b[0m\u001b[0;34m]\u001b[0m\u001b[0;34m)\u001b[0m\u001b[0;34m\u001b[0m\u001b[0;34m\u001b[0m\u001b[0m\n",
      "\u001b[0;31mValueError\u001b[0m: invalid literal for int() with base 10: ''"
     ]
    }
   ],
   "source": [
    "destiny_tank()"
   ]
  },
  {
   "cell_type": "code",
   "execution_count": 20,
   "metadata": {},
   "outputs": [],
   "source": [
    "def destiny_tank2(num):\n",
    "    tanks = [\"IV号戦車D型\", \"III号戦車J型\", \"チャーチル Mk.VII\", \"M4シャーマン\", \"P40重戦車\", \"T-34/76\"]\n",
    "    idx = int(num) % len(tanks)\n",
    "    print(\"あなたの戦車は\")\n",
    "    print(tanks[idx])"
   ]
  },
  {
   "cell_type": "code",
   "execution_count": 22,
   "metadata": {},
   "outputs": [
    {
     "name": "stdout",
     "output_type": "stream",
     "text": [
      "好きな数字を入力してください：5\n",
      "あなたの戦車は\n",
      "T-34/76\n"
     ]
    }
   ],
   "source": [
    "num_str = input(\"好きな数字を入力してください：\")\n",
    "num = int(num_str)\n",
    "destiny_tank2(num)"
   ]
  },
  {
   "cell_type": "code",
   "execution_count": 40,
   "metadata": {},
   "outputs": [
    {
     "name": "stdout",
     "output_type": "stream",
     "text": [
      "あなたの戦車は\n",
      "IV号戦車D型\n"
     ]
    }
   ],
   "source": [
    "from random import randint\n",
    "num = randint(0, 10)\n",
    "destiny_tank2(num)"
   ]
  },
  {
   "cell_type": "code",
   "execution_count": 41,
   "metadata": {},
   "outputs": [],
   "source": [
    "def destiny_tank3(num):\n",
    "    tanks = [\"IV号戦車D型\", \"III号戦車J型\", \"チャーチル Mk.VII\", \"M4シャーマン\", \"P40重戦車\", \"T-34/76\"]\n",
    "    idx = int(num) % len(tanks)\n",
    "    return tanks[idx]"
   ]
  },
  {
   "cell_type": "code",
   "execution_count": 43,
   "metadata": {},
   "outputs": [
    {
     "name": "stdout",
     "output_type": "stream",
     "text": [
      "今日のあなたが乗るべき戦車は チャーチル Mk.VII です\n"
     ]
    }
   ],
   "source": [
    "from random import randint\n",
    "num = randint(0, 10)\n",
    "tank = destiny_tank3(num)\n",
    "print(\"今日のあなたが乗るべき戦車は\", tank, \"です\")"
   ]
  },
  {
   "cell_type": "code",
   "execution_count": 46,
   "metadata": {},
   "outputs": [
    {
     "name": "stdout",
     "output_type": "stream",
     "text": [
      "110\n"
     ]
    },
    {
     "ename": "NameError",
     "evalue": "name 'inner_var' is not defined",
     "output_type": "error",
     "traceback": [
      "\u001b[0;31m---------------------------------------------------------------------------\u001b[0m",
      "\u001b[0;31mNameError\u001b[0m                                 Traceback (most recent call last)",
      "\u001b[0;32m<ipython-input-46-a65acdf71175>\u001b[0m in \u001b[0;36m<module>\u001b[0;34m\u001b[0m\n\u001b[1;32m      4\u001b[0m \u001b[0;34m\u001b[0m\u001b[0m\n\u001b[1;32m      5\u001b[0m \u001b[0mtest_func\u001b[0m\u001b[0;34m(\u001b[0m\u001b[0;36m10\u001b[0m\u001b[0;34m)\u001b[0m\u001b[0;34m\u001b[0m\u001b[0;34m\u001b[0m\u001b[0m\n\u001b[0;32m----> 6\u001b[0;31m \u001b[0minner_var\u001b[0m\u001b[0;34m\u001b[0m\u001b[0;34m\u001b[0m\u001b[0m\n\u001b[0m",
      "\u001b[0;31mNameError\u001b[0m: name 'inner_var' is not defined"
     ]
    }
   ],
   "source": [
    "def test_func(arg1):\n",
    "    inner_var = 100\n",
    "    print(arg1 + inner_var)\n",
    "\n",
    "test_func(10)\n",
    "inner_var"
   ]
  },
  {
   "cell_type": "code",
   "execution_count": 47,
   "metadata": {},
   "outputs": [],
   "source": [
    "def calc_variance(a_list):\n",
    "    total = sum(a_list)\n",
    "    length = len(a_list)\n",
    "    mean = total / length\n",
    "    variance = 0\n",
    "    \n",
    "    for height in a_list:\n",
    "        variance += (height - mean) ** 2\n",
    "    variance = variance / length\n",
    "    \n",
    "    return variance"
   ]
  },
  {
   "cell_type": "code",
   "execution_count": 1,
   "metadata": {},
   "outputs": [
    {
     "ename": "NameError",
     "evalue": "name 'calc_variance' is not defined",
     "output_type": "error",
     "traceback": [
      "\u001b[0;31m---------------------------------------------------------------------------\u001b[0m",
      "\u001b[0;31mNameError\u001b[0m                                 Traceback (most recent call last)",
      "\u001b[0;32m<ipython-input-1-96d91ef386dd>\u001b[0m in \u001b[0;36m<module>\u001b[0;34m\u001b[0m\n\u001b[1;32m      3\u001b[0m \u001b[0mpravda_team\u001b[0m \u001b[0;34m=\u001b[0m \u001b[0;34m[\u001b[0m\u001b[0;36m127\u001b[0m\u001b[0;34m,\u001b[0m \u001b[0;36m172\u001b[0m\u001b[0;34m,\u001b[0m \u001b[0;36m140\u001b[0m\u001b[0;34m,\u001b[0m \u001b[0;36m160\u001b[0m\u001b[0;34m,\u001b[0m \u001b[0;36m174\u001b[0m\u001b[0;34m]\u001b[0m\u001b[0;34m\u001b[0m\u001b[0;34m\u001b[0m\u001b[0m\n\u001b[1;32m      4\u001b[0m \u001b[0;34m\u001b[0m\u001b[0m\n\u001b[0;32m----> 5\u001b[0;31m \u001b[0mmonk_fish_variance\u001b[0m \u001b[0;34m=\u001b[0m \u001b[0mcalc_variance\u001b[0m\u001b[0;34m(\u001b[0m\u001b[0mmonk_fish_team\u001b[0m\u001b[0;34m)\u001b[0m\u001b[0;34m\u001b[0m\u001b[0;34m\u001b[0m\u001b[0m\n\u001b[0m\u001b[1;32m      6\u001b[0m \u001b[0mvolleyball_team_variance\u001b[0m \u001b[0;34m=\u001b[0m \u001b[0mcalc_variance\u001b[0m\u001b[0;34m(\u001b[0m\u001b[0mvolleyball_team\u001b[0m\u001b[0;34m)\u001b[0m\u001b[0;34m\u001b[0m\u001b[0;34m\u001b[0m\u001b[0m\n\u001b[1;32m      7\u001b[0m \u001b[0mpravda_team_variance\u001b[0m \u001b[0;34m=\u001b[0m \u001b[0mcalc_variance\u001b[0m\u001b[0;34m(\u001b[0m\u001b[0mpravda_team\u001b[0m\u001b[0;34m)\u001b[0m\u001b[0;34m\u001b[0m\u001b[0;34m\u001b[0m\u001b[0m\n",
      "\u001b[0;31mNameError\u001b[0m: name 'calc_variance' is not defined"
     ]
    }
   ],
   "source": [
    "monk_fish_team = [158, 157, 163, 157, 145]\n",
    "volleyball_team = [143, 167, 170, 165]\n",
    "pravda_team = [127, 172, 140, 160, 174]\n",
    "\n",
    "monk_fish_variance = calc_variance(monk_fish_team)\n",
    "volleyball_team_variance = calc_variance(volleyball_team)\n",
    "pravda_team_variance = calc_variance(pravda_team)\n",
    "\n",
    "print(monk_fish_variance ** 0.5)\n",
    "print(volleyball_team_variance ** 0.5)\n",
    "print(pravda_team_variance ** 0.5)"
   ]
  },
  {
   "cell_type": "code",
   "execution_count": 3,
   "metadata": {},
   "outputs": [
    {
     "name": "stdout",
     "output_type": "stream",
     "text": [
      "0.2796344959197272\n",
      "2\n",
      "[1, 0, 5, 2, 4, 3]\n",
      "5\n"
     ]
    }
   ],
   "source": [
    "import random\n",
    "\n",
    "print(random.random())\n",
    "print(random.randint(0, 6))\n",
    "a_list = [0, 1, 2, 3, 4, 5]\n",
    "random.shuffle(a_list)\n",
    "print(a_list)\n",
    "print(random.choice(a_list))"
   ]
  },
  {
   "cell_type": "code",
   "execution_count": 4,
   "metadata": {},
   "outputs": [
    {
     "name": "stdout",
     "output_type": "stream",
     "text": [
      "157\n",
      "166.0\n"
     ]
    }
   ],
   "source": [
    "from statistics import median\n",
    "\n",
    "monk_fish_team = [158, 157, 163, 157, 145]\n",
    "volleyball_team = [143, 167, 170, 165]\n",
    "print(median(monk_fish_team))\n",
    "print(median(volleyball_team))"
   ]
  }
 ],
 "metadata": {
  "kernelspec": {
   "display_name": "Python 3",
   "language": "python",
   "name": "python3"
  },
  "language_info": {
   "codemirror_mode": {
    "name": "ipython",
    "version": 3
   },
   "file_extension": ".py",
   "mimetype": "text/x-python",
   "name": "python",
   "nbconvert_exporter": "python",
   "pygments_lexer": "ipython3",
   "version": "3.7.6"
  }
 },
 "nbformat": 4,
 "nbformat_minor": 4
}
